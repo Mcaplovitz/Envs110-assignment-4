{
 "cells": [
  {
   "cell_type": "markdown",
   "metadata": {},
   "source": [
    "# Assigment 4: Data Analysis and Visualization\n",
    "\n",
    "Use as many Python and markdown cells per question as you deem necessary. **DO NOT SUBMIT CODE THAT DOES NOT RUN.** You will lose points for code that throws errors. \n",
    "\n",
    "The data you will work with was taken from [Alaskan vegetation plots](https://daac.ornl.gov/ABOVE/guides/Arrigetch_Peaks_Veg_Plots.html) from 1978-1981. The data set is in the `data/` subdirectory in this repo in two .csv files containing information about research plots and the plant species covering the plots. **Please read the descriptions for the data, as they will help you answer the questions.** \n",
    "\n",
    "**Table 1: Data files**\n",
    "| Data File Name |\tDescription |\n",
    "| --- | --- |\n",
    "| Arrigetch_Peaks_Environmental_Data.csv| Environmental characterization data for Arrigetch Peaks research plots |\n",
    "| Arrigetch_Peaks_Species_Data.csv | Species cover data for Arrigetch Peaks research plots|\n",
    "\n",
    "**Table 2. Arrigetch_Peaks_Environmental_Data.csv**\n",
    "| Column Name\t| Units\t| Description |\n",
    "| --- | --- | --- |\n",
    "| TURBOVEG_PLOT_NUMBER\t |\t | TURBOVEG plot number |\n",
    "| PLANT_COMMUNITY_NAME\t|  |\tPrimary vegetation types |\n",
    "| ELEVATION |\tm\t| Elevation of the plots |\n",
    "| ASPECT\t| deg\t| Aspect of the plots |\n",
    "| SLOPE\t| deg\t| Slope of the plots |\n",
    "| COVER_LITTER_LAYER\t| % |\tPercentage of litter layer cover in the plot |\n",
    "|COVER_OPEN_WATER\t| % | \tPercentage of open water cover in the plot |\n",
    "| COVER_ROCK\t| % |\tPercentage of rock cover in the plot |\n",
    "| COVER_CRUST\t| % |\tPercentage of crust cover in the plot |\n",
    "| COVER_BARE_SOIL\t| % |\tPercentage of bare soil cover in the plot|\n",
    "| REMARKS\t |  |\tField notes |\n",
    "\n",
    "**Table 3. Arrigetch_Peaks_Species_Data.csv**\n",
    "| Column Name\t| Units\t| Description |\n",
    "| --- | --- | --- |\n",
    "| TURBOVEG_PLOT_NUMBER\t |\t | TURBOVEG plot number |\n",
    "| species name | | data values are Species Cover Classes: where r (rare), + (common, but less than 1% cover), 1 (1-5 percent), 2 (6 to 25%), 3 (25 to 50%), 4 (51 to 75%), 5 (76 to 100%). |"
   ]
  },
  {
   "cell_type": "markdown",
   "metadata": {},
   "source": [
    "## Question 1: Pandas (15 pt)\n",
    "\n",
    "Load the two data sets into Python with Pandas. Name the environmental data frame `env`, and the species data frame `species`. Display the first few rows of each data frame. What are the dimensions of the two data frames? (2 pt)\n",
    "\n",
    "Replace all values in both data frames that are `-9999` with `np.NaN`. (1 pt)\n",
    "\n",
    "Print how many unique plant community names there are. (1 pt)\n",
    "\n",
    "Print summary statistics for all numerical columns in `env`, excluding `\"TURBOVEG_PLOT_NUMBER\"`. (2 pt)\n",
    "\n",
    "Merge the two data frames together by the column `TURBO_PLOT_NUMBER`. (1 pt)\n",
    "\n",
    "How many rows in the merged data frame contain missing data? (1 pt)\n",
    "\n",
    "Which species was present in the most plots? (3 pt)\n",
    "\n",
    "For all rows in `species`, calculate the sum of all the columns (excluding `\"TURBOVEG_PLOT_NUMBER\"`) for each row. Add this sum as a new column called `\"totals\"`. (2 pt)\n",
    "\n",
    "Read the description included above for the `species` data frame. Are there any inconsistencies between the description and the data? Explain. If there are inconsistences, what would you do to correct them? (2 pt)"
   ]
  },
  {
   "cell_type": "markdown",
   "metadata": {},
   "source": [
    "## Question 2: Plotting (15 pt)\n",
    "\n",
    "Make a figure showing the relationship between elevation and cover rock percentage. Is there a positive relationship, negative relationship, or no relationship between the two variables? (3 pt)\n",
    "\n",
    "Make a figure showing the distribution of the `\"totals\"` column you created in the `species` data frame. Print summary statistics for this column, as well. (3 pt)\n",
    "\n",
    "Create a subset of `env` containing rows with the plant community names `\"Caricetum scirpoideae-rupestris\"`,`\"Pedicularo kanei-Caricetum glacialis\"`, and `\"Saxifrago tricuspidatae-Artemisietum alaskanae\"`. (2 pt)\n",
    "\n",
    "Create a figure to compare the mean cover bare soil percentage of the plant communities. Describe what the figure tells us-> are there differences among the plant communities in cover bare soil percentage? Which has the highest median value? The lowest? Are there differences in the spread among the communities? (4 pt)\n",
    "\n",
    "For all figures, label your axes descriptively with units. If necessary, create legends. Make your figures large enough to be easily readable, and **make sure that no text is overlapping**. Save all figures, and make sure to commit them (3 pt).\n",
    "\n",
    "\n"
   ]
  }
 ],
 "metadata": {
  "language_info": {
   "name": "python"
  },
  "orig_nbformat": 4
 },
 "nbformat": 4,
 "nbformat_minor": 2
}
